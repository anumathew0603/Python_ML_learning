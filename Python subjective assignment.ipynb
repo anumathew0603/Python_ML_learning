{
 "cells": [
  {
   "cell_type": "code",
   "execution_count": 1,
   "metadata": {},
   "outputs": [
    {
     "name": "stdout",
     "output_type": "stream",
     "text": [
      "Enter the string: prospect\n",
      "Replaced string: pros$ect \n"
     ]
    }
   ],
   "source": [
    "#Q1\n",
    "\n",
    "str1=input(\"Enter the string: \")\n",
    "str2=str1[1:]\n",
    "str3=str2.replace(str1[0:1],'$')\n",
    "str4=str1[0:1] + str3\n",
    "print(\"Replaced string: {} \".format(str4))\n"
   ]
  },
  {
   "cell_type": "code",
   "execution_count": 2,
   "metadata": {},
   "outputs": [
    {
     "name": "stdout",
     "output_type": "stream",
     "text": [
      "Enter first string: abc\n",
      "Enter second string: xyz\n",
      "The replaced joined string is : xyc abz \n"
     ]
    }
   ],
   "source": [
    "#Q2\n",
    "\n",
    "str1=input(\"Enter first string: \")\n",
    "str2=input(\"Enter second string: \")\n",
    "str3=str1.replace(str1[0:2],str2[0:2])\n",
    "str4=str2.replace(str2[0:2],str1[0:2])\n",
    "str5=str3 + ' ' + str4\n",
    "print(\"The replaced joined string is : {} \" .format(str5))"
   ]
  },
  {
   "cell_type": "code",
   "execution_count": 1,
   "metadata": {},
   "outputs": [
    {
     "name": "stdout",
     "output_type": "stream",
     "text": [
      "Enter the input string: abc\n",
      "The result string is abcing\n",
      "Enter the input string: string\n",
      "The result string is :stringly\n",
      "Enter the input string: an\n",
      "The result string is an\n"
     ]
    }
   ],
   "source": [
    "#Q3\n",
    "\n",
    "i=0\n",
    "while i < 3:\n",
    "    str1=input(\"Enter the input string: \")\n",
    "    if len(str1) < 3:\n",
    "        print(\"The result string is {}\".format(str1))\n",
    "    else:\n",
    "        if str1[-3:] == 'ing':\n",
    "            str2=str1+'ly'\n",
    "            print(\"The result string is :{}\".format(str2))\n",
    "        else:\n",
    "            str3=str1+'ing'\n",
    "            print(\"The result string is {}\".format(str3))\n",
    "            \n",
    "    i=i+1"
   ]
  },
  {
   "cell_type": "code",
   "execution_count": 38,
   "metadata": {},
   "outputs": [
    {
     "name": "stdout",
     "output_type": "stream",
     "text": [
      "Enter the input string: the lyrics are not that poor\n",
      "3\n",
      "5\n"
     ]
    }
   ],
   "source": [
    "#Q4\n",
    "\n",
    "str1=input(\"Enter the input string: \")\n",
    "a=str1.split()\n",
    "a\n",
    "print(a.index('not'))\n",
    "print(a.index('poor'))\n",
    "not_idx=a.index('not')\n",
    "poor_idx=a.index('poor')\n",
    "#if not_idx < poor_idx:\n",
    "     "
   ]
  },
  {
   "cell_type": "code",
   "execution_count": 73,
   "metadata": {},
   "outputs": [
    {
     "name": "stdout",
     "output_type": "stream",
     "text": [
      "Enter the input string: python\n",
      "The string after removing odd indexes is : pto\n"
     ]
    }
   ],
   "source": [
    "#Q5\n",
    "\n",
    "str1=input(\"Enter the input string: \")\n",
    "list1=list(str1)\n",
    "list2=[i for i in list1 if list1.index(i)%2==0 ]\n",
    "list3=''.join(list2)\n",
    "print(\"The string after removing odd indexes is : {}\".format(list3))\n"
   ]
  },
  {
   "cell_type": "code",
   "execution_count": 85,
   "metadata": {},
   "outputs": [
    {
     "name": "stdout",
     "output_type": "stream",
     "text": [
      "onononon\n",
      "None\n"
     ]
    }
   ],
   "source": [
    "#Q6  Input string \n",
    "#    O/p - 4 copies of the last 2 characters of the string , if the string lenght atleast 2\n",
    "\n",
    "def insertend(a):\n",
    "    if len(a) > 2:\n",
    "        return (a[-2:]*4)\n",
    "\n",
    "str1=insertend(\"python\")\n",
    "print(str1)\n",
    "str2=insertend(\"a\")\n",
    "print(str2)"
   ]
  },
  {
   "cell_type": "code",
   "execution_count": 88,
   "metadata": {},
   "outputs": [
    {
     "name": "stdout",
     "output_type": "stream",
     "text": [
      "pyt\n",
      "an\n"
     ]
    }
   ],
   "source": [
    "#Q7 Input string\n",
    "#   O/p - If string lenghth >=3 , the o/p the first 3 char of the input string . Else return the same string\n",
    "\n",
    "def firstthree(a):\n",
    "    if len(a) < 3:\n",
    "        return a\n",
    "    else:\n",
    "        return a[0:3]\n",
    "\n",
    "str1=firstthree(\"python\")\n",
    "print(str1)\n",
    "str2=firstthree(\"an\")\n",
    "print(str2)"
   ]
  },
  {
   "cell_type": "code",
   "execution_count": 122,
   "metadata": {},
   "outputs": [
    {
     "name": "stdout",
     "output_type": "stream",
     "text": [
      "Enter the floating point number: 12.5423\n",
      "The output upto 2 decimal points(using:) is : 12.54\n"
     ]
    }
   ],
   "source": [
    "#Q8\n",
    "\n",
    "num1=(float)(input(\"Enter the floating point number: \"))\n",
    "print(\"The output upto 2 decimal points(using:) is : {0:.2f}\".format(num1))"
   ]
  },
  {
   "cell_type": "code",
   "execution_count": 124,
   "metadata": {},
   "outputs": [
    {
     "name": "stdout",
     "output_type": "stream",
     "text": [
      "Enter the floating point number: 12.435\n",
      "The output upto 2 decimal points(using %) is: \n",
      "12.44\n"
     ]
    }
   ],
   "source": [
    "#Q9\n",
    "\n",
    "num1=(float)(input(\"Enter the floating point number: \"))\n",
    "print(\"The output upto 2 decimal points(using %) is: \") \n",
    "print('%.2f'%num1)"
   ]
  },
  {
   "cell_type": "code",
   "execution_count": 129,
   "metadata": {},
   "outputs": [
    {
     "name": "stdout",
     "output_type": "stream",
     "text": [
      "Enter the input string: happy birthday birla\n",
      "Enter the substring occurance to check: bir\n",
      "bir is present in happy birthday birla , 2 times\n"
     ]
    }
   ],
   "source": [
    "#Q10\n",
    "\n",
    "str1=input(\"Enter the input string: \")\n",
    "str2=input(\"Enter the substring occurance to check: \")\n",
    "a=str1.count(str2)\n",
    "print(\"{} is present in {} , {} times\".format(str2,str1,a))"
   ]
  },
  {
   "cell_type": "code",
   "execution_count": 9,
   "metadata": {},
   "outputs": [
    {
     "name": "stdout",
     "output_type": "stream",
     "text": [
      "Enter the input string: thequickbrownjumpsoverthelazyfox\n",
      "The repeated char and their count are :\n",
      "o 3\n",
      "e 3\n",
      "u 2\n",
      "r 2\n",
      "t 2\n",
      "h 2\n"
     ]
    }
   ],
   "source": [
    "#Q11 Count of repeated characters\n",
    "\n",
    "str1=input(\"Enter the input string: \")\n",
    "list1=list(str1)\n",
    "uniq=set(str1)\n",
    "list2=list(uniq)\n",
    "#print(\"The unique char in input string are {}\".format(list2))\n",
    "print(\"The repeated char and their count are :\")\n",
    "list3=[(x,list1.count(x)) for x in list2]\n",
    "for x,y in list3:\n",
    "    if y > 1:\n",
    "        print(x,y)\n"
   ]
  },
  {
   "cell_type": "code",
   "execution_count": 9,
   "metadata": {},
   "outputs": [
    {
     "name": "stdout",
     "output_type": "stream",
     "text": [
      "Enter the input string: thequickbrownfoxjumpsoverthelazydog\n",
      "26\n",
      "Contains all alphabets\n"
     ]
    }
   ],
   "source": [
    "#Q13\n",
    "\n",
    "import string\n",
    "\n",
    "alphabet=string.ascii_lowercase\n",
    "str1=input(\"Enter the input string: \")\n",
    "str1_uniq=set(str1.lower())\n",
    "print(len(str1_uniq))\n",
    "if len(str1_uniq) == len(alphabet):\n",
    "    print(\"Contains all alphabets\")\n",
    "else:\n",
    "    print(\"Does NOT contain all alplabets\")\n"
   ]
  },
  {
   "cell_type": "code",
   "execution_count": null,
   "metadata": {},
   "outputs": [],
   "source": []
  }
 ],
 "metadata": {
  "kernelspec": {
   "display_name": "Python 3",
   "language": "python",
   "name": "python3"
  }
 },
 "nbformat": 4,
 "nbformat_minor": 2
}
