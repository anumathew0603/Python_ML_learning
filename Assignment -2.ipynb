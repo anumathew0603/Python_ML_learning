{
 "cells": [
  {
   "cell_type": "markdown",
   "metadata": {},
   "source": [
    "TASK 1"
   ]
  },
  {
   "cell_type": "code",
   "execution_count": 1,
   "metadata": {},
   "outputs": [],
   "source": [
    "#1.1"
   ]
  },
  {
   "cell_type": "code",
   "execution_count": 2,
   "metadata": {},
   "outputs": [
    {
     "name": "stdout",
     "output_type": "stream",
     "text": [
      "The input list : [0, 1, 2, 3, 4, 5, 6, 7, 8, 9]\n",
      "The even numbers from the input are : [0, 2, 4, 6, 8]\n"
     ]
    }
   ],
   "source": [
    "#1.2 Implement my own myfilter()\n",
    "\n",
    "def even_odd(num):\n",
    "    if num%2 == 0:\n",
    "        return True\n",
    "    else:\n",
    "        return False\n",
    "\n",
    "lst=[0,1,2,3,4,5,6,7,8,9]\n",
    "lst1=list()    \n",
    "even_list=list()\n",
    "\n",
    "for i in lst:\n",
    "    lst1.append(even_odd(i))\n",
    "\n",
    "for i in range(len(lst1)):\n",
    "    if lst1[i]==True:\n",
    "        even_list.append(lst[i])\n",
    "\n",
    "\n",
    "print(\"The input list : {}\".format(lst))\n",
    "print(\"The even numbers from the input are : {}\".format(even_list))"
   ]
  },
  {
   "cell_type": "code",
   "execution_count": 3,
   "metadata": {},
   "outputs": [
    {
     "name": "stdout",
     "output_type": "stream",
     "text": [
      "['A', 'C', 'A', 'D', 'G', 'I', 'L', 'D']\n"
     ]
    }
   ],
   "source": [
    "#2 Implement list comprehension to get the output\n",
    "# To apply a function on each item of an iterable (list)\n",
    "\n",
    "#2.1\n",
    "\n",
    "a1=[x for x in \"ACADGILD\"]\n",
    "print(a1)"
   ]
  },
  {
   "cell_type": "code",
   "execution_count": 4,
   "metadata": {},
   "outputs": [
    {
     "name": "stdout",
     "output_type": "stream",
     "text": [
      "['x', 'xx', 'xxx', 'xxxx', 'y', 'yy', 'yyy', 'yyyy', 'z', 'zz', 'zzz', 'zzzz']\n"
     ]
    }
   ],
   "source": [
    "#2.2\n",
    "\n",
    "a2=[i*j for i in \"xyz\" for j in range(1,5)]\n",
    "print(a2)"
   ]
  },
  {
   "cell_type": "code",
   "execution_count": 5,
   "metadata": {},
   "outputs": [
    {
     "name": "stdout",
     "output_type": "stream",
     "text": [
      "['x', 'y', 'z', 'xx', 'yy', 'zz', 'xx', 'yy', 'zz', 'xxxx', 'yyyy', 'zzzz']\n"
     ]
    }
   ],
   "source": [
    "#2.3\n",
    "\n",
    "a3=[i*j for i in [1,2,2,4] for j in \"xyz\"]\n",
    "print(a3)"
   ]
  },
  {
   "cell_type": "code",
   "execution_count": 6,
   "metadata": {},
   "outputs": [
    {
     "name": "stdout",
     "output_type": "stream",
     "text": [
      "[[2], [3], [4], [3], [4], [5], [4], [5], [6]]\n"
     ]
    }
   ],
   "source": [
    "#2.4 - nested list comprehension\n",
    "\n",
    "a4=[[i+j+k for i in range(1)] for j in range(2,5) for k in range(0,3)]\n",
    "print(a4)"
   ]
  },
  {
   "cell_type": "code",
   "execution_count": 7,
   "metadata": {},
   "outputs": [
    {
     "name": "stdout",
     "output_type": "stream",
     "text": [
      "[[2, 3, 4, 5], [3, 4, 5, 6], [4, 5, 6, 7], [5, 6, 7, 8]]\n"
     ]
    }
   ],
   "source": [
    "#2.5 - nested list comprehension\n",
    "\n",
    "a5=[[i+j for i in range(2,6)] for j in range(0,4)]\n",
    "print(a5)"
   ]
  },
  {
   "cell_type": "code",
   "execution_count": 8,
   "metadata": {},
   "outputs": [
    {
     "name": "stdout",
     "output_type": "stream",
     "text": [
      "[(1, 1), (2, 1), (3, 1), (1, 2), (2, 2), (3, 2), (1, 3), (2, 3), (3, 3)]\n"
     ]
    }
   ],
   "source": [
    "#2.6 \n",
    "\n",
    "a6=[(i,j) for j in range(1,4) for i in range(1,4)]\n",
    "print(a6)"
   ]
  },
  {
   "cell_type": "code",
   "execution_count": 9,
   "metadata": {},
   "outputs": [
    {
     "name": "stdout",
     "output_type": "stream",
     "text": [
      "How many words you are going to enter: 5\n",
      "Enter word : apple\n",
      "Enter word : orange\n",
      "Enter word : banana\n",
      "Enter word : grapes\n",
      "Enter word : fig\n",
      "The words list is ['apple', 'orange', 'banana', 'grapes', 'fig']\n",
      "The length list is [5, 6, 6, 6, 3]\n",
      "The longest words : ['orange', 'banana', 'grapes']\n"
     ]
    }
   ],
   "source": [
    "#3 Implement the function longestWord() - takes a list of words and returns the longest one\n",
    "\n",
    "#Function definition\n",
    "\n",
    "def longestWord(lst):\n",
    "    length = list()\n",
    "    for i in range(len(lst)):\n",
    "     length.append(len(lst[i]))\n",
    "     \n",
    "    print(\"The words list is {}\".format(lst))    \n",
    "    print(\"The length list is {}\".format(length))\n",
    "\n",
    "    max_wordlength=max(length)\n",
    "    final_lst=list()\n",
    "    \n",
    "    for j in range(len(lst)):\n",
    "        if len(lst[j]) == max_wordlength:\n",
    "            final_lst.append(lst[j])\n",
    "    \n",
    "    print(\"The longest words : {}\".format(final_lst))\n",
    "\n",
    "        \n",
    "#Main start here\n",
    "\n",
    "c=1\n",
    "words=list()\n",
    "cnt=int(input(\"How many words you are going to enter: \"))\n",
    "while c <= cnt:\n",
    " w=input(\"Enter word : \")\n",
    " words.append(w)\n",
    " c = c + 1\n",
    "\n",
    "longestWord(words)"
   ]
  },
  {
   "cell_type": "markdown",
   "metadata": {},
   "source": [
    "TASK 2"
   ]
  },
  {
   "cell_type": "code",
   "execution_count": 10,
   "metadata": {},
   "outputs": [],
   "source": [
    "#1.1"
   ]
  },
  {
   "cell_type": "code",
   "execution_count": 12,
   "metadata": {},
   "outputs": [
    {
     "name": "stdout",
     "output_type": "stream",
     "text": [
      "How many words you are going to enter: 4\n",
      "Enter word : elephant\n",
      "Enter word : monkey\n",
      "Enter word : lion\n",
      "Enter word : tiger\n",
      "Enter the length: 4\n",
      "The input list is: ['elephant', 'monkey', 'lion', 'tiger']\n",
      "The words greater than 4 is : ['elephant', 'monkey', 'tiger']\n"
     ]
    }
   ],
   "source": [
    "#1.2 Function filter_long_words()\n",
    "\n",
    "#Main start here\n",
    "\n",
    "\n",
    "c=1\n",
    "words=list()\n",
    "cnt=int(input(\"How many words you are going to enter: \"))\n",
    "while c <= cnt:\n",
    " w=input(\"Enter word : \")\n",
    " words.append(w)\n",
    " c = c + 1\n",
    "\n",
    "lenght=int(input(\"Enter the length: \"))\n",
    "\n",
    "out=filter(lambda x:len(x) > 4,words)\n",
    "\n",
    "print(\"The input list is: {}\".format(words))\n",
    "print(\"The words greater than {} is : {}\".format(lenght,list(out)))\n"
   ]
  },
  {
   "cell_type": "code",
   "execution_count": 13,
   "metadata": {},
   "outputs": [
    {
     "name": "stdout",
     "output_type": "stream",
     "text": [
      "How many words you are going to enter: 3\n",
      "Enter word : parrot\n",
      "Enter word : dove\n",
      "Enter word : eagle\n",
      "The input word list is ['parrot', 'dove', 'eagle']\n",
      "The output lenght list is [6, 4, 5]\n"
     ]
    }
   ],
   "source": [
    "#2.1 Function which maps list of words into length of words in output\n",
    "\n",
    "def wordstoLength(inlist):\n",
    "    outlist=list()\n",
    "    \n",
    "    for i in range(len(inlist)):\n",
    "        outlist.append(len(inlist[i]))\n",
    "        \n",
    "    print(\"The input word list is {}\".format(inlist))\n",
    "    print(\"The output lenght list is {}\".format(outlist))    \n",
    "\n",
    "    \n",
    "#Main starts here    \n",
    "c=1\n",
    "words=list()\n",
    "cnt=int(input(\"How many words you are going to enter: \"))\n",
    "while c <= cnt:\n",
    " w=input(\"Enter word : \")\n",
    " words.append(w)\n",
    " c = c + 1\n",
    "\n",
    "wordstoLength(words)\n",
    "\n",
    "\n"
   ]
  },
  {
   "cell_type": "code",
   "execution_count": 14,
   "metadata": {},
   "outputs": [
    {
     "name": "stdout",
     "output_type": "stream",
     "text": [
      "Enter a character to check if Vowel or not: w\n"
     ]
    },
    {
     "data": {
      "text/plain": [
       "False"
      ]
     },
     "execution_count": 14,
     "metadata": {},
     "output_type": "execute_result"
    }
   ],
   "source": [
    "#2.2 Input - a character , Output - return True if its a vowel , else False\n",
    "\n",
    "def vowel(chr):\n",
    " vowels=['a','e','i','o','u']\n",
    " if chr in vowels:\n",
    "    return True\n",
    " else:\n",
    "    return False\n",
    "     \n",
    "\n",
    "char=str(input(\"Enter a character to check if Vowel or not: \"))\n",
    "vowel(char)"
   ]
  }
 ],
 "metadata": {
  "kernelspec": {
   "display_name": "Python 3",
   "language": "python",
   "name": "python3"
  },
  "language_info": {
   "codemirror_mode": {
    "name": "ipython",
    "version": 3
   },
   "file_extension": ".py",
   "mimetype": "text/x-python",
   "name": "python",
   "nbconvert_exporter": "python",
   "pygments_lexer": "ipython3",
   "version": "3.7.4"
  }
 },
 "nbformat": 4,
 "nbformat_minor": 2
}
