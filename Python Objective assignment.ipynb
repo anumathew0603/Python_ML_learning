{
 "cells": [
  {
   "cell_type": "code",
   "execution_count": 9,
   "metadata": {},
   "outputs": [
    {
     "name": "stdout",
     "output_type": "stream",
     "text": [
      "<class 'list'>\n",
      "<class 'list_iterator'>\n",
      "1\n",
      "2\n",
      "3\n"
     ]
    }
   ],
   "source": [
    "#Q1 \n",
    "#Ans : a)By passing the given list to the iter() function\n",
    "\n",
    "list1=[1,2,3,4]\n",
    "print(type(list1))\n",
    "list2=iter(list1)\n",
    "print(type(list2))\n",
    "\n",
    "print(next(list2))\n",
    "print(next(list2))\n",
    "print(next(list2))"
   ]
  },
  {
   "cell_type": "code",
   "execution_count": 15,
   "metadata": {},
   "outputs": [
    {
     "name": "stdout",
     "output_type": "stream",
     "text": [
      "<class 'generator'>\n",
      "1\n",
      "4\n",
      "9\n",
      "16\n",
      "25\n"
     ]
    }
   ],
   "source": [
    "#Q2 If the function contains at least one \"yield\" statement , then it becomes\n",
    "#Ans : b) a generator function\n",
    "    \n",
    "list1=[1,2,3,4,5]\n",
    "\n",
    "def sq(list1):\n",
    "    for i in list1:\n",
    "     yield i*i\n",
    "\n",
    "gen=sq(list1)\n",
    "print(type(gen))\n",
    "\n",
    "for i in gen:\n",
    "    print(i)"
   ]
  },
  {
   "cell_type": "code",
   "execution_count": 21,
   "metadata": {},
   "outputs": [
    {
     "name": "stdout",
     "output_type": "stream",
     "text": [
      "<generator object <genexpr> at 0x00000000053F34C8>\n",
      "1 9\n"
     ]
    }
   ],
   "source": [
    "#Q3\n",
    "#Ans : b) 1,9\n",
    "\n",
    "mylist=[1,3,6,10]\n",
    "a=(x**2 for x in mylist)\n",
    "print(a)\n",
    "print(next(a),next(a))"
   ]
  },
  {
   "cell_type": "code",
   "execution_count": 24,
   "metadata": {},
   "outputs": [],
   "source": [
    "#Q4\n",
    "#Ans : d) All of the above"
   ]
  },
  {
   "cell_type": "code",
   "execution_count": 28,
   "metadata": {},
   "outputs": [
    {
     "name": "stdout",
     "output_type": "stream",
     "text": [
      "<function Foo.<locals>.multiplier at 0x0000000005480E58>\n",
      "<function Foo.<locals>.multiplier at 0x0000000005480B88>\n",
      "10\n",
      "10\n",
      "50\n"
     ]
    }
   ],
   "source": [
    "#Q5\n",
    "#Ans : d) 50\n",
    "\n",
    "def Foo(n):\n",
    "    def multiplier(x):\n",
    "        return x*n\n",
    "    return multiplier\n",
    "\n",
    "a=Foo(5)\n",
    "b=Foo(5)\n",
    "\n",
    "print(a)\n",
    "print(b)\n",
    "print(a(2))\n",
    "print(b(2))\n",
    "print(a(b(2)))\n"
   ]
  },
  {
   "cell_type": "code",
   "execution_count": 4,
   "metadata": {},
   "outputs": [
    {
     "name": "stdout",
     "output_type": "stream",
     "text": [
      "i got decorated\n",
      "i am ordinary\n"
     ]
    }
   ],
   "source": [
    "#Q6 \n",
    "#Ans : c)\n",
    "\n",
    "def make_pretty(func):\n",
    "    def inner():\n",
    "        print(\"i got decorated\")\n",
    "        func()\n",
    "    return inner\n",
    "\n",
    "def ordinary():\n",
    "    print(\"i am ordinary\")\n",
    "    \n",
    "pretty=make_pretty(ordinary)\n",
    "pretty()\n",
    "\n"
   ]
  },
  {
   "cell_type": "code",
   "execution_count": null,
   "metadata": {},
   "outputs": [],
   "source": [
    "#Q7 Getters and setters in python\n",
    "#Ans : d) @property"
   ]
  },
  {
   "cell_type": "code",
   "execution_count": 30,
   "metadata": {},
   "outputs": [],
   "source": [
    "#Q8\n",
    "#Ans : b) getter() , setter() and delete()"
   ]
  },
  {
   "cell_type": "code",
   "execution_count": null,
   "metadata": {},
   "outputs": [],
   "source": [
    "#Q9\n",
    "#Ans  d) None of the above"
   ]
  },
  {
   "cell_type": "code",
   "execution_count": 38,
   "metadata": {},
   "outputs": [
    {
     "name": "stdout",
     "output_type": "stream",
     "text": [
      "Hello\n",
      "None\n",
      "Hello\n",
      "<class 'NoneType'>\n",
      "<class 'NoneType'>\n",
      "Hello\n",
      "8791383825632\n",
      "8791383825632\n"
     ]
    }
   ],
   "source": [
    "#Q10 \n",
    "#Ans : b) Both printHello() and a reference to the same onject\n",
    "\n",
    "def printHello():\n",
    "    print(\"Hello\")\n",
    "    \n",
    "a=printHello()\n",
    "\n",
    "print(a)\n",
    "print(type(printHello()))\n",
    "print(type(a))\n",
    "print(id(printHello()))\n",
    "print(id(a))"
   ]
  },
  {
   "cell_type": "code",
   "execution_count": 5,
   "metadata": {},
   "outputs": [
    {
     "name": "stdout",
     "output_type": "stream",
     "text": [
      "a= 20\n"
     ]
    }
   ],
   "source": [
    "#Q11 \n",
    "#Ans  c) a= 20\n",
    "\n",
    "def outerFunction():\n",
    "    global a\n",
    "    a=20\n",
    "    def innerFunction():\n",
    "        global a\n",
    "        a = 30\n",
    "        print('a=',a)\n",
    "a=10\n",
    "outerFunction()\n",
    "print('a=',a)"
   ]
  },
  {
   "cell_type": "code",
   "execution_count": null,
   "metadata": {},
   "outputs": [],
   "source": [
    "#Q12\n",
    "#Ans : a) A class is a blueprint for the object"
   ]
  },
  {
   "cell_type": "code",
   "execution_count": 45,
   "metadata": {},
   "outputs": [
    {
     "name": "stdout",
     "output_type": "stream",
     "text": [
      "Java\n"
     ]
    }
   ],
   "source": [
    "#Q13\n",
    "#Ans : c)Java\n",
    "\n",
    "class Foo:\n",
    "    def printLine(self,line='Python'):\n",
    "        print(line)\n",
    "        \n",
    "ol=Foo()\n",
    "ol.printLine('Java')"
   ]
  },
  {
   "cell_type": "code",
   "execution_count": 1,
   "metadata": {},
   "outputs": [],
   "source": [
    "#Q14 \n",
    "#Ans : b) This function is called , when the new object is instantiated"
   ]
  },
  {
   "cell_type": "code",
   "execution_count": 5,
   "metadata": {},
   "outputs": [
    {
     "name": "stdout",
     "output_type": "stream",
     "text": [
      "1 1\n"
     ]
    }
   ],
   "source": [
    "#Q15 \n",
    "#Ans : b) 1 1\n",
    "\n",
    "class Point:\n",
    "    def __init__(self,x=0,y=0):\n",
    "        self.x=x+1\n",
    "        self.y=y+1\n",
    "        \n",
    "p1=Point()\n",
    "print(p1.x,p1.y)\n",
    "#The self is getting substituted by the object p1"
   ]
  },
  {
   "cell_type": "code",
   "execution_count": 6,
   "metadata": {},
   "outputs": [],
   "source": [
    "#Q16 Which code used inheritance\n",
    "#Ans : c)\n",
    "\n",
    "class Foo:\n",
    "    pass\n",
    "class Hoo(Foo):\n",
    "    pass\n"
   ]
  },
  {
   "cell_type": "code",
   "execution_count": null,
   "metadata": {},
   "outputs": [],
   "source": [
    "#Q17 If your class in inherited from 2 different classes , it is called\n",
    "#Ans : b) Multiple inheritance"
   ]
  },
  {
   "cell_type": "code",
   "execution_count": null,
   "metadata": {},
   "outputs": [],
   "source": [
    "#Q18 \n",
    "#Ans d) All of the above"
   ]
  },
  {
   "cell_type": "code",
   "execution_count": 7,
   "metadata": {},
   "outputs": [
    {
     "name": "stdout",
     "output_type": "stream",
     "text": [
      "4 6\n"
     ]
    }
   ],
   "source": [
    "#Q19\n",
    "#Ans : b) 4 6\n",
    "\n",
    "class Point:\n",
    "    def __init__(self,x=0,y=0):\n",
    "        self.x=x\n",
    "        self.y=y\n",
    "        \n",
    "    def __sub__(self,other):\n",
    "        x=self.x + other.x\n",
    "        y=self.y + other.y\n",
    "        return Point(x,y)\n",
    "\n",
    "p1=Point(3,4)\n",
    "p2=Point(1,2)\n",
    "result=p1-p2\n",
    "print(result.x,result.y)"
   ]
  },
  {
   "cell_type": "code",
   "execution_count": null,
   "metadata": {},
   "outputs": [],
   "source": [
    "#Q20 Opening a file in 'a' mode \n",
    "#Ans c) Opens the file for appending , at the end of the file "
   ]
  },
  {
   "cell_type": "code",
   "execution_count": null,
   "metadata": {},
   "outputs": [],
   "source": [
    "#Q21 f=open(\"test.txt\")\n",
    "#Ans b) Opens test.txt file for reading only"
   ]
  },
  {
   "cell_type": "code",
   "execution_count": null,
   "metadata": {},
   "outputs": [],
   "source": [
    "#Q22\n",
    "#Ans a)\n",
    "\n",
    "#with open(\"test.txt\",encoding='utf-8') as f:\n",
    "    #perform file operation"
   ]
  },
  {
   "cell_type": "code",
   "execution_count": 13,
   "metadata": {},
   "outputs": [],
   "source": [
    "#Q23\n",
    "#Ans d) All of the above\n",
    "\n",
    "#f=open('test.txt','r',encoding='utf-8')\n",
    "#f.read()"
   ]
  },
  {
   "cell_type": "code",
   "execution_count": 7,
   "metadata": {},
   "outputs": [
    {
     "data": {
      "text/plain": [
       "['.ipynb_checkpoints',\n",
       " 'Assignment -1 .ipynb',\n",
       " 'Assignment -2-Copy1.ipynb',\n",
       " 'Assignment -2.ipynb',\n",
       " 'assignment 1.pdf',\n",
       " 'assignment 2.pdf',\n",
       " 'assignment 3.pdf',\n",
       " 'Python Objective assignment.ipynb',\n",
       " 'python objective.pdf',\n",
       " 'python subjective1-1.pdf']"
      ]
     },
     "execution_count": 7,
     "metadata": {},
     "output_type": "execute_result"
    }
   ],
   "source": [
    "#Q24\n",
    "#Ans c) prints all the directories and files inside a given directory\n",
    "\n",
    "import os\n",
    "os.listdir()"
   ]
  },
  {
   "cell_type": "code",
   "execution_count": null,
   "metadata": {},
   "outputs": [],
   "source": [
    "#Q25 \n",
    "#Ans a) An exception is an error which occurs in the runtime"
   ]
  },
  {
   "cell_type": "code",
   "execution_count": null,
   "metadata": {},
   "outputs": [],
   "source": [
    "#Q26 What will happen if we try to open a file that doesn't exist\n",
    "#Ans : c) An exception is raised"
   ]
  },
  {
   "cell_type": "code",
   "execution_count": 15,
   "metadata": {},
   "outputs": [
    {
     "name": "stdout",
     "output_type": "stream",
     "text": [
      "2.0\n"
     ]
    }
   ],
   "source": [
    "#Q27\n",
    "#Ans  b) 2.0\n",
    "\n",
    "number=5.0\n",
    "try:\n",
    "  r=10/number\n",
    "  print(r)\n",
    "except:\n",
    "  print(\"oops!Error occured\")"
   ]
  },
  {
   "cell_type": "code",
   "execution_count": 25,
   "metadata": {},
   "outputs": [
    {
     "name": "stdout",
     "output_type": "stream",
     "text": [
      "two\n"
     ]
    }
   ],
   "source": [
    "#Q28\n",
    "#Ans  c) prints two if the TypeError or ZeroDivisionError ocuurs\n",
    "\n",
    "try:\n",
    "#    a=12/0\n",
    "#    print(a)\n",
    "    b=2+'2'\n",
    "    print(b)\n",
    "except(TypeError,ZeroDivisionError):\n",
    " print(\"two\")"
   ]
  },
  {
   "cell_type": "code",
   "execution_count": null,
   "metadata": {},
   "outputs": [],
   "source": [
    "#Q29\n",
    "#Ans c) You can create a user-defined exception by deriving a class from an Error class"
   ]
  },
  {
   "cell_type": "code",
   "execution_count": null,
   "metadata": {},
   "outputs": [],
   "source": [
    "#Q30\n",
    "#Ans d)"
   ]
  },
  {
   "cell_type": "code",
   "execution_count": 26,
   "metadata": {},
   "outputs": [
    {
     "name": "stdout",
     "output_type": "stream",
     "text": [
      "python is awesome\n"
     ]
    }
   ],
   "source": [
    "#Q31\n",
    "#Ans b)\n",
    "\n",
    "def printLine(text):\n",
    "    print(text,'is awesome')\n",
    "\n",
    "printLine('python')"
   ]
  },
  {
   "cell_type": "code",
   "execution_count": 31,
   "metadata": {},
   "outputs": [],
   "source": [
    "#Q32 A function which doesnt return anything , returns a \n",
    "#Ans b) None object"
   ]
  },
  {
   "cell_type": "code",
   "execution_count": 36,
   "metadata": {},
   "outputs": [
    {
     "name": "stdout",
     "output_type": "stream",
     "text": [
      "Hello ('Frodo', 'Sauron')\n",
      "('Frodo', 'Sauron')\n",
      "Frodo Sauron\n"
     ]
    }
   ],
   "source": [
    "#Q33\n",
    "#Ans  b)\n",
    "\n",
    "#positional arguments\n",
    "def greetPerson(*name):\n",
    "    print('Hello',name)\n",
    "    print(name)\n",
    "    print(*name)\n",
    "    \n",
    "greetPerson('Frodo','Sauron')"
   ]
  },
  {
   "cell_type": "code",
   "execution_count": 37,
   "metadata": {},
   "outputs": [],
   "source": [
    "#Q34 recursive function\n",
    "#Ans b) A function that calls itself"
   ]
  },
  {
   "cell_type": "code",
   "execution_count": 39,
   "metadata": {},
   "outputs": [
    {
     "name": "stdout",
     "output_type": "stream",
     "text": [
      "25\n"
     ]
    }
   ],
   "source": [
    "#Q35\n",
    "#Ans  c)25\n",
    "\n",
    "result=lambda x:x*x\n",
    "print(result(5))"
   ]
  },
  {
   "cell_type": "code",
   "execution_count": 44,
   "metadata": {},
   "outputs": [
    {
     "name": "stdout",
     "output_type": "stream",
     "text": [
      "10\n",
      "1\n",
      "3\n"
     ]
    }
   ],
   "source": [
    "#Q36\n",
    "#Ans  a) 10\n",
    "\n",
    "def Foo(x):\n",
    "    if(x==1):\n",
    "        return 1\n",
    "    else:\n",
    "        return x+Foo(x-1)\n",
    "    \n",
    "print(Foo(4))"
   ]
  },
  {
   "cell_type": "code",
   "execution_count": 47,
   "metadata": {},
   "outputs": [
    {
     "name": "stdout",
     "output_type": "stream",
     "text": [
      "3.141592653589793\n"
     ]
    }
   ],
   "source": [
    "#Q37\n",
    "#Ans  c)\n",
    "\n",
    "from math import pi\n",
    "print(pi)"
   ]
  },
  {
   "cell_type": "code",
   "execution_count": null,
   "metadata": {},
   "outputs": [],
   "source": [
    "#Q38 . operator used to import modules from a package\n",
    "#Ans a) . operator\n",
    "\n",
    "#package is a directory . It must conatin a __init__.py file which tells its a package\n",
    "#modules are .py codes inside the directory\n",
    "#modules accessed - package.module "
   ]
  },
  {
   "cell_type": "code",
   "execution_count": 48,
   "metadata": {},
   "outputs": [
    {
     "name": "stdout",
     "output_type": "stream",
     "text": [
      "(1, 3, 6)\n"
     ]
    }
   ],
   "source": [
    "#Q39\n",
    "#Ans  b) (1,3,6)\n",
    "\n",
    "numbers=[1,3,6]\n",
    "newNumbers=tuple(map(lambda x:x,numbers))\n",
    "print(newNumbers)"
   ]
  },
  {
   "cell_type": "code",
   "execution_count": 50,
   "metadata": {},
   "outputs": [],
   "source": [
    "#Q40\n",
    "#Ans c) Nothing will be printed\n",
    "\n",
    "if None:\n",
    "    print(\"hello\")"
   ]
  },
  {
   "cell_type": "code",
   "execution_count": null,
   "metadata": {},
   "outputs": [],
   "source": [
    "#Q41  if-elif-else executes only one block of code among several blocks\n",
    "#Ans a) True"
   ]
  },
  {
   "cell_type": "code",
   "execution_count": 51,
   "metadata": {},
   "outputs": [
    {
     "name": "stdout",
     "output_type": "stream",
     "text": [
      "2\n",
      "1\n"
     ]
    }
   ],
   "source": [
    "#Q42\n",
    "#Ans  a)\n",
    "\n",
    "for i in [1,0]:\n",
    "    print(i+1)"
   ]
  },
  {
   "cell_type": "code",
   "execution_count": null,
   "metadata": {},
   "outputs": [],
   "source": [
    "#43\n",
    "#Ans c) Both for and while loops have an optional else statement"
   ]
  },
  {
   "cell_type": "code",
   "execution_count": 1,
   "metadata": {},
   "outputs": [
    {
     "name": "stdout",
     "output_type": "stream",
     "text": [
      "10\n"
     ]
    }
   ],
   "source": [
    "#Q44\n",
    "#Ans b) 10\n",
    "\n",
    "i=sum=0\n",
    "while i<=4:\n",
    "    sum+=i\n",
    "    i=i+1\n",
    "    \n",
    "print(sum)"
   ]
  },
  {
   "cell_type": "code",
   "execution_count": 2,
   "metadata": {},
   "outputs": [],
   "source": [
    "#Q45\n",
    "#Ans c) 4 is printed infinitely until the program closes\n",
    "\n",
    "#while 4==4:\n",
    "#    print('4')"
   ]
  },
  {
   "cell_type": "code",
   "execution_count": 3,
   "metadata": {},
   "outputs": [],
   "source": [
    "#Q46 Is it better to use a for loop instead of while when iterating thru a sequence\n",
    "#Ans b) For loop is more pythonic \n"
   ]
  },
  {
   "cell_type": "code",
   "execution_count": 4,
   "metadata": {},
   "outputs": [],
   "source": [
    "#Q47\n",
    "#Ans d) all of the above"
   ]
  },
  {
   "cell_type": "code",
   "execution_count": 6,
   "metadata": {},
   "outputs": [
    {
     "name": "stdout",
     "output_type": "stream",
     "text": [
      "PYTHON"
     ]
    }
   ],
   "source": [
    "#Q48\n",
    "#Ans a)\n",
    "\n",
    "for char in 'PYTHON STRING':\n",
    "\n",
    "    if char==' ':\n",
    "        break\n",
    "    print(char,end=\"\")\n",
    "    \n",
    "    if char=='O':\n",
    "        continue\n"
   ]
  },
  {
   "cell_type": "code",
   "execution_count": null,
   "metadata": {},
   "outputs": [],
   "source": [
    "#Q49 Pass statement\n",
    "#Ans c)It is used a placeholder for future implementation of functions ,loops"
   ]
  },
  {
   "cell_type": "code",
   "execution_count": null,
   "metadata": {},
   "outputs": [],
   "source": [
    "#Q50\n",
    "#Ans c) Any char such as comma(,) or tab(\\t) that is used to seperate the column data "
   ]
  },
  {
   "cell_type": "code",
   "execution_count": null,
   "metadata": {},
   "outputs": [],
   "source": [
    "#Q51 First row in a csv or tsv\n",
    "#Ans a) Column names of the data"
   ]
  },
  {
   "cell_type": "code",
   "execution_count": 18,
   "metadata": {},
   "outputs": [
    {
     "name": "stdout",
     "output_type": "stream",
     "text": [
      "['a,b,c,d,message']\n",
      "['1,2,3,4,hello']\n",
      "['5,6,7,8,world']\n",
      "['9,10,11,12,foo']\n"
     ]
    }
   ],
   "source": [
    "#Q52\n",
    "#Ans b) csv.reader(my_data,delimiter='\\t')\n",
    "\n",
    "import csv\n",
    "a=csv.reader(open(r\"C:\\Users\\SamG\\Desktop\\Python_ML_Krish_Naik\\examples\\ex1.csv\"),delimiter='\\t')\n",
    "for i in a:\n",
    "    print(i)\n",
    "\n",
    "\n"
   ]
  },
  {
   "cell_type": "code",
   "execution_count": 19,
   "metadata": {},
   "outputs": [],
   "source": [
    "#Q53\n",
    "#Ans b) The row data as a list"
   ]
  },
  {
   "cell_type": "code",
   "execution_count": null,
   "metadata": {},
   "outputs": [],
   "source": [
    "#Q54 \n",
    "#Ans "
   ]
  },
  {
   "cell_type": "code",
   "execution_count": 11,
   "metadata": {},
   "outputs": [
    {
     "data": {
      "text/html": [
       "<div>\n",
       "<style scoped>\n",
       "    .dataframe tbody tr th:only-of-type {\n",
       "        vertical-align: middle;\n",
       "    }\n",
       "\n",
       "    .dataframe tbody tr th {\n",
       "        vertical-align: top;\n",
       "    }\n",
       "\n",
       "    .dataframe thead th {\n",
       "        text-align: right;\n",
       "    }\n",
       "</style>\n",
       "<table border=\"1\" class=\"dataframe\">\n",
       "  <thead>\n",
       "    <tr style=\"text-align: right;\">\n",
       "      <th></th>\n",
       "      <th>c1</th>\n",
       "      <th>C2</th>\n",
       "      <th>C3</th>\n",
       "    </tr>\n",
       "  </thead>\n",
       "  <tbody>\n",
       "    <tr>\n",
       "      <td>0</td>\n",
       "      <td>1.0</td>\n",
       "      <td>2.0</td>\n",
       "      <td>NaN</td>\n",
       "    </tr>\n",
       "    <tr>\n",
       "      <td>1</td>\n",
       "      <td>3.0</td>\n",
       "      <td>NaN</td>\n",
       "      <td>4.0</td>\n",
       "    </tr>\n",
       "    <tr>\n",
       "      <td>2</td>\n",
       "      <td>NaN</td>\n",
       "      <td>5.0</td>\n",
       "      <td>NaN</td>\n",
       "    </tr>\n",
       "  </tbody>\n",
       "</table>\n",
       "</div>"
      ],
      "text/plain": [
       "    c1   C2   C3\n",
       "0  1.0  2.0  NaN\n",
       "1  3.0  NaN  4.0\n",
       "2  NaN  5.0  NaN"
      ]
     },
     "execution_count": 11,
     "metadata": {},
     "output_type": "execute_result"
    }
   ],
   "source": [
    "#Q55\n",
    "#Ans c)pandas.read_csv('hrdata.csv')\n",
    "\n",
    "import pandas as pd\n",
    "a=pd.read_csv(r\"C:\\Users\\SamG\\Desktop\\Python_ML_Krish_Naik\\examples\\test1.csv\")\n",
    "a"
   ]
  },
  {
   "cell_type": "code",
   "execution_count": 12,
   "metadata": {},
   "outputs": [
    {
     "data": {
      "text/html": [
       "<div>\n",
       "<style scoped>\n",
       "    .dataframe tbody tr th:only-of-type {\n",
       "        vertical-align: middle;\n",
       "    }\n",
       "\n",
       "    .dataframe tbody tr th {\n",
       "        vertical-align: top;\n",
       "    }\n",
       "\n",
       "    .dataframe thead th {\n",
       "        text-align: right;\n",
       "    }\n",
       "</style>\n",
       "<table border=\"1\" class=\"dataframe\">\n",
       "  <thead>\n",
       "    <tr style=\"text-align: right;\">\n",
       "      <th></th>\n",
       "      <th>C2</th>\n",
       "      <th>C3</th>\n",
       "    </tr>\n",
       "    <tr>\n",
       "      <th>c1</th>\n",
       "      <th></th>\n",
       "      <th></th>\n",
       "    </tr>\n",
       "  </thead>\n",
       "  <tbody>\n",
       "    <tr>\n",
       "      <td>1.0</td>\n",
       "      <td>2.0</td>\n",
       "      <td>NaN</td>\n",
       "    </tr>\n",
       "    <tr>\n",
       "      <td>3.0</td>\n",
       "      <td>NaN</td>\n",
       "      <td>4.0</td>\n",
       "    </tr>\n",
       "    <tr>\n",
       "      <td>NaN</td>\n",
       "      <td>5.0</td>\n",
       "      <td>NaN</td>\n",
       "    </tr>\n",
       "  </tbody>\n",
       "</table>\n",
       "</div>"
      ],
      "text/plain": [
       "      C2   C3\n",
       "c1           \n",
       "1.0  2.0  NaN\n",
       "3.0  NaN  4.0\n",
       "NaN  5.0  NaN"
      ]
     },
     "execution_count": 12,
     "metadata": {},
     "output_type": "execute_result"
    }
   ],
   "source": [
    "#Q56 To use the first column as the index column \n",
    "#Ans a)pandas.read_csv('hrdata.csv',index_col='Name') \n",
    "\n",
    "b=pd.read_csv(r\"C:\\Users\\SamG\\Desktop\\Python_ML_Krish_Naik\\examples\\test1.csv\",index_col='c1')\n",
    "b"
   ]
  },
  {
   "cell_type": "code",
   "execution_count": 19,
   "metadata": {},
   "outputs": [
    {
     "data": {
      "text/plain": [
       "['Pug\\n',\n",
       " 'Jack Russell Terrier\\n',\n",
       " 'English Springer Spaniel\\n',\n",
       " 'German Shepherd\\n',\n",
       " 'Staffordshire Bull Terrier\\n',\n",
       " 'Cavalier King Charles Spaniel\\n',\n",
       " 'Golden Retriever\\n',\n",
       " 'West Highland White Terrier\\n',\n",
       " 'Boxer\\n',\n",
       " 'Border Terrier']"
      ]
     },
     "execution_count": 19,
     "metadata": {},
     "output_type": "execute_result"
    }
   ],
   "source": [
    "#Q57  To open te file for reading as a text file\n",
    "#Ans b)open('dog_breeds.txt','r')\n",
    "#    c)open('dog_breeds.txt')\n",
    "    \n",
    "    \n",
    "reader=open(r\"C:\\Users\\SamG\\Desktop\\Python_ML_Krish_Naik\\examples\\dog_breeds.txt\",'r')\n",
    "type(reader)\n",
    "reader.read()\n",
    "reader.seek(0)\n",
    "reader.readlines()"
   ]
  },
  {
   "cell_type": "code",
   "execution_count": null,
   "metadata": {},
   "outputs": [],
   "source": [
    "#Q58 cwd - root folder\n",
    "#Ans   cd /animals/feline"
   ]
  },
  {
   "cell_type": "code",
   "execution_count": null,
   "metadata": {},
   "outputs": [],
   "source": [
    "#Q59 Reading as a buffered binary file\n",
    "#Ans a) open('jack_russell.png','rb')\n"
   ]
  },
  {
   "cell_type": "code",
   "execution_count": 20,
   "metadata": {},
   "outputs": [],
   "source": [
    "#Q60  CWD - root folder\n",
    "#Ans cd /animals/ursine/bears.gif"
   ]
  },
  {
   "cell_type": "code",
   "execution_count": 22,
   "metadata": {},
   "outputs": [
    {
     "name": "stdout",
     "output_type": "stream",
     "text": [
      "hello\n"
     ]
    }
   ],
   "source": [
    "#Q61   To ensure that the a file objct is cloed properly after uage\n",
    "#Ans  d) By using the with statement\n",
    "\n",
    "with open(r\"C:\\Users\\SamG\\Desktop\\Python_ML_Krish_Naik\\examples\\dog_breeds.txt\",'r') as reader:\n",
    "    print(\"hello\")\n"
   ]
  },
  {
   "cell_type": "code",
   "execution_count": null,
   "metadata": {},
   "outputs": [],
   "source": [
    "#Q62  CWD - feline\n",
    "#Ans  cd ../ursine/bears.gif"
   ]
  },
  {
   "cell_type": "code",
   "execution_count": 31,
   "metadata": {},
   "outputs": [
    {
     "name": "stdout",
     "output_type": "stream",
     "text": [
      "Pug\n",
      "Jack Russell Terrier\n",
      "English Springer Spaniel\n",
      "German Shepherd\n",
      "Staffordshire Bull Terrier\n",
      "Cavalier King Charles Spaniel\n",
      "Golden Retriever\n",
      "West Highland White Terrier\n",
      "Boxer\n",
      "Border Terrier\n"
     ]
    },
    {
     "data": {
      "text/plain": [
       "_io.TextIOWrapper"
      ]
     },
     "execution_count": 31,
     "metadata": {},
     "output_type": "execute_result"
    }
   ],
   "source": [
    "#Q63  Method for reading the entire file into a single string\n",
    "#Ans b) .read()\n",
    "\n",
    "with open(r\"C:\\Users\\SamG\\Desktop\\Python_ML_Krish_Naik\\examples\\dog_breeds.txt\",'r') as reader:\n",
    "    print(reader.read())\n",
    "    \n",
    "type(reader)"
   ]
  },
  {
   "cell_type": "code",
   "execution_count": 35,
   "metadata": {},
   "outputs": [
    {
     "name": "stdout",
     "output_type": "stream",
     "text": [
      "2\n"
     ]
    }
   ],
   "source": [
    "#Q64  1.73 rounded up to one decimal   ( ceil)\n",
    "#Ans  a) 1.8"
   ]
  },
  {
   "cell_type": "code",
   "execution_count": null,
   "metadata": {},
   "outputs": [],
   "source": [
    "#Q65 -2.961 rounded down to 2 decimal places  (floor)\n",
    "#Ans  b) -2.97"
   ]
  },
  {
   "cell_type": "code",
   "execution_count": 44,
   "metadata": {},
   "outputs": [
    {
     "name": "stdout",
     "output_type": "stream",
     "text": [
      "3\n",
      "3\n",
      "4\n",
      "-4\n",
      "-3\n",
      "-3\n"
     ]
    }
   ],
   "source": [
    "#Q66 \n",
    "#Ans b) Positive numbers are rounded down and negative numbers are rounded up\n",
    "\n",
    "#Positive number = 3.5\n",
    "import math \n",
    "print(math.floor(3.5)) # floor \n",
    "print(math.trunc(3.5)) # work as floor \n",
    "print(math.ceil(3.5))  # ceil\n",
    "\n",
    "#Negative number  = -3.5\n",
    "print(math.floor(-3.5)) # floor\n",
    "print(math.trunc(-3.5)) # work as ceil\n",
    "print(math.ceil(-3.5))  # ceil"
   ]
  },
  {
   "cell_type": "code",
   "execution_count": 45,
   "metadata": {},
   "outputs": [],
   "source": [
    "#Q101\n",
    "#Ans b) matplotlib enables us to plot graphics"
   ]
  },
  {
   "cell_type": "code",
   "execution_count": null,
   "metadata": {},
   "outputs": [],
   "source": [
    "#Q102 resize will affect the original array while using reshape create a new reshaped instance of the array.\n",
    "#Ans a)reshape ,resize"
   ]
  },
  {
   "cell_type": "code",
   "execution_count": null,
   "metadata": {},
   "outputs": [],
   "source": [
    "#Q103  NumPy arange function creates sequence of numbers which return an array\n",
    "#Ans  a)arange "
   ]
  },
  {
   "cell_type": "code",
   "execution_count": null,
   "metadata": {},
   "outputs": [],
   "source": [
    "#Q104\n",
    "#Ans d) All of the above"
   ]
  },
  {
   "cell_type": "code",
   "execution_count": null,
   "metadata": {},
   "outputs": [],
   "source": [
    "#Q105  To stack mutiple 1D arrays as columns into a 2D array\n",
    "#Ans  b)column_stack"
   ]
  },
  {
   "cell_type": "code",
   "execution_count": 46,
   "metadata": {},
   "outputs": [],
   "source": [
    "#Q106  ndarray is known asn an alias array\n",
    "#Ans a) True"
   ]
  },
  {
   "cell_type": "code",
   "execution_count": null,
   "metadata": {},
   "outputs": [],
   "source": [
    "#Q107 NumPy has ndarray.view() method which is a new array object that looks at the same data of the original array.\n",
    "#Ans a) view\n"
   ]
  }
 ],
 "metadata": {
  "kernelspec": {
   "display_name": "Python 3",
   "language": "python",
   "name": "python3"
  },
  "language_info": {
   "codemirror_mode": {
    "name": "ipython",
    "version": 3
   },
   "file_extension": ".py",
   "mimetype": "text/x-python",
   "name": "python",
   "nbconvert_exporter": "python",
   "pygments_lexer": "ipython3",
   "version": "3.7.4"
  }
 },
 "nbformat": 4,
 "nbformat_minor": 2
}
